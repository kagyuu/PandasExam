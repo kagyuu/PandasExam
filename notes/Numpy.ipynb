{
 "cells": [
  {
   "cell_type": "code",
   "execution_count": 4,
   "id": "280919fb",
   "metadata": {},
   "outputs": [
    {
     "name": "stdout",
     "output_type": "stream",
     "text": [
      "3.10.2+ (heads/3.10:5603db43ba, Feb  5 2022, 20:38:24) [GCC 8.3.0]\n"
     ]
    }
   ],
   "source": [
    "import sys\n",
    "print(sys.version)"
   ]
  },
  {
   "cell_type": "markdown",
   "id": "e9d42dc6",
   "metadata": {},
   "source": [
    "* Numpy の Quick Start をなぞる\n",
    "    * https://numpy.org/devdocs/user/quickstart.html\n",
    "* Numpy は、Python の array から numpy.ndarray を作る\n",
    "* ndarray にしてしまえば、ndarray 同士の演算ができるようになる"
   ]
  },
  {
   "cell_type": "code",
   "execution_count": 7,
   "id": "90a1ce1b",
   "metadata": {},
   "outputs": [
    {
     "name": "stdout",
     "output_type": "stream",
     "text": [
      "[1 2 3]\n",
      "<class 'numpy.ndarray'>\n",
      "int64\n",
      "[5 7 9]\n"
     ]
    }
   ],
   "source": [
    "import numpy as np\n",
    "x = np.array([1,2,3])\n",
    "print(x)\n",
    "print(type(x))\n",
    "print(x.dtype)\n",
    "\n",
    "y = np.array([4,5,6])\n",
    "print (x+y)"
   ]
  },
  {
   "cell_type": "markdown",
   "id": "c54eea7e",
   "metadata": {},
   "source": [
    "* 二次元配列の ndarray も作ることが出来る\n",
    "* 一次元の ndarray を n 次元に変更可能"
   ]
  },
  {
   "cell_type": "code",
   "execution_count": 22,
   "id": "bf39e11b",
   "metadata": {},
   "outputs": [
    {
     "name": "stdout",
     "output_type": "stream",
     "text": [
      "a=\n",
      "[[1.5 2.  3. ]\n",
      " [4.  5.  6. ]]\n",
      "b=\n",
      "[[ 0  1  2]\n",
      " [ 3  4  5]\n",
      " [ 6  7  8]\n",
      " [ 9 10 11]]\n",
      "b2=\n",
      "[[ 0  1  2]\n",
      " [ 3  4  5]\n",
      " [ 6  7  8]\n",
      " [ 9 10 11]]\n",
      "c=\n",
      "[[1 1 1]\n",
      " [1 1 1]]\n",
      "d=\n",
      "[[0 0 0]\n",
      " [0 0 0]]\n"
     ]
    }
   ],
   "source": [
    "a = np.array([[1.5, 2, 3], [4, 5, 6]])\n",
    "print(\"a=\\n%s\" % a)\n",
    "\n",
    "b = np.arange(12).reshape(4, 3)\n",
    "print(\"b=\\n%s\" % b)\n",
    "\n",
    "# b2 is same as b\n",
    "b2 = np.array(range(12)).reshape(4,3)\n",
    "print(\"b2=\\n%s\" % b2)\n",
    "\n",
    "c = np.ones((2, 3), dtype=int)\n",
    "print(\"c=\\n%s\" % c)\n",
    "\n",
    "d = np.zeros((2, 3), dtype=int)\n",
    "print(\"d=\\n%s\" % d)\n"
   ]
  },
  {
   "cell_type": "markdown",
   "id": "7fc207e5",
   "metadata": {},
   "source": [
    "* 行列の結合ができます\n",
    "* 行方向の結合\n",
    "    * np.concaternate([ ary1, ary2, ary3 ], axis=1)\n",
    "    * np.hstack((ary1, ary2, ary3))\n",
    "* 列方向の結合\n",
    "    * np.concaternate([ ary1, ary2, ary3 ], axis=0)\n",
    "    * np.vstack((ary1, ary2, ary3))"
   ]
  },
  {
   "cell_type": "code",
   "execution_count": 32,
   "id": "04c60c42",
   "metadata": {},
   "outputs": [
    {
     "name": "stdout",
     "output_type": "stream",
     "text": [
      "[[ 0  2  4]\n",
      " [ 6  8 10]]\n",
      "[[ 1  3  5]\n",
      " [ 7  9 11]]\n",
      "[[ 0  2  4  1  3  5]\n",
      " [ 6  8 10  7  9 11]]\n",
      "[[ 0  2  4]\n",
      " [ 6  8 10]\n",
      " [ 1  3  5]\n",
      " [ 7  9 11]]\n"
     ]
    }
   ],
   "source": [
    "ary1 = np.arange(0, 12, 2).reshape(2,3)\n",
    "ary2 = np.arange(1, 13, 2).reshape(2,3)\n",
    "\n",
    "print (ary1)\n",
    "print (ary2)\n",
    "\n",
    "print (np.hstack((ary1, ary2)))\n",
    "print (np.vstack((ary1, ary2))) "
   ]
  },
  {
   "cell_type": "markdown",
   "id": "7652a0c6",
   "metadata": {},
   "source": [
    "* ndarray の計算は、それぞれ同じ位置にある数値同士の計算になる\n",
    "* 行列演算をするばあいには、np.matrix 肩を使う必要がある\n",
    "* 大きさの違う ndarray, matrix 同士の計算では、自動的に大きさが揃えられる (便利な半面、バグの原因になる)"
   ]
  },
  {
   "cell_type": "code",
   "execution_count": 34,
   "id": "8a7ef200",
   "metadata": {},
   "outputs": [
    {
     "name": "stdout",
     "output_type": "stream",
     "text": [
      "[[ 1  5  9]\n",
      " [13 17 21]]\n",
      "[[ 5  7  9]\n",
      " [11 13 15]]\n",
      "[[  0   6  20]\n",
      " [ 42  72 110]]\n"
     ]
    }
   ],
   "source": [
    "print(ary1 + ary2)\n",
    "print(ary1 + 5)\n",
    "print(ary1 * ary2)"
   ]
  },
  {
   "cell_type": "code",
   "execution_count": 37,
   "id": "3dc2e1d4",
   "metadata": {},
   "outputs": [
    {
     "name": "stdout",
     "output_type": "stream",
     "text": [
      "[[ 1  5  9]\n",
      " [13 17 21]]\n",
      "[[ 5  7  9]\n",
      " [11 13 15]]\n",
      "[[ 26  62]\n",
      " [ 80 224]]\n"
     ]
    },
    {
     "ename": "ValueError",
     "evalue": "shapes (2,3) and (2,3) not aligned: 3 (dim 1) != 2 (dim 0)",
     "output_type": "error",
     "traceback": [
      "\u001b[0;31m---------------------------------------------------------------------------\u001b[0m",
      "\u001b[0;31mValueError\u001b[0m                                Traceback (most recent call last)",
      "Input \u001b[0;32mIn [37]\u001b[0m, in \u001b[0;36m<module>\u001b[0;34m\u001b[0m\n\u001b[1;32m      8\u001b[0m \u001b[38;5;28mprint\u001b[39m (mat1 \u001b[38;5;241m*\u001b[39m mat2\u001b[38;5;241m.\u001b[39mT)\n\u001b[1;32m     10\u001b[0m \u001b[38;5;66;03m# これはエラーになる (2行3列の行列同士をかけ合わせたため)\u001b[39;00m\n\u001b[0;32m---> 11\u001b[0m \u001b[38;5;28mprint\u001b[39m (\u001b[43mmat1\u001b[49m\u001b[43m \u001b[49m\u001b[38;5;241;43m*\u001b[39;49m\u001b[43m \u001b[49m\u001b[43mmat2\u001b[49m)\n",
      "File \u001b[0;32m~/Documents/Python/PandasExam/.venv/lib/python3.10/site-packages/numpy/matrixlib/defmatrix.py:218\u001b[0m, in \u001b[0;36mmatrix.__mul__\u001b[0;34m(self, other)\u001b[0m\n\u001b[1;32m    215\u001b[0m \u001b[38;5;28;01mdef\u001b[39;00m \u001b[38;5;21m__mul__\u001b[39m(\u001b[38;5;28mself\u001b[39m, other):\n\u001b[1;32m    216\u001b[0m     \u001b[38;5;28;01mif\u001b[39;00m \u001b[38;5;28misinstance\u001b[39m(other, (N\u001b[38;5;241m.\u001b[39mndarray, \u001b[38;5;28mlist\u001b[39m, \u001b[38;5;28mtuple\u001b[39m)) :\n\u001b[1;32m    217\u001b[0m         \u001b[38;5;66;03m# This promotes 1-D vectors to row vectors\u001b[39;00m\n\u001b[0;32m--> 218\u001b[0m         \u001b[38;5;28;01mreturn\u001b[39;00m \u001b[43mN\u001b[49m\u001b[38;5;241;43m.\u001b[39;49m\u001b[43mdot\u001b[49m\u001b[43m(\u001b[49m\u001b[38;5;28;43mself\u001b[39;49m\u001b[43m,\u001b[49m\u001b[43m \u001b[49m\u001b[43masmatrix\u001b[49m\u001b[43m(\u001b[49m\u001b[43mother\u001b[49m\u001b[43m)\u001b[49m\u001b[43m)\u001b[49m\n\u001b[1;32m    219\u001b[0m     \u001b[38;5;28;01mif\u001b[39;00m isscalar(other) \u001b[38;5;129;01mor\u001b[39;00m \u001b[38;5;129;01mnot\u001b[39;00m \u001b[38;5;28mhasattr\u001b[39m(other, \u001b[38;5;124m'\u001b[39m\u001b[38;5;124m__rmul__\u001b[39m\u001b[38;5;124m'\u001b[39m) :\n\u001b[1;32m    220\u001b[0m         \u001b[38;5;28;01mreturn\u001b[39;00m N\u001b[38;5;241m.\u001b[39mdot(\u001b[38;5;28mself\u001b[39m, other)\n",
      "File \u001b[0;32m<__array_function__ internals>:180\u001b[0m, in \u001b[0;36mdot\u001b[0;34m(*args, **kwargs)\u001b[0m\n",
      "\u001b[0;31mValueError\u001b[0m: shapes (2,3) and (2,3) not aligned: 3 (dim 1) != 2 (dim 0)"
     ]
    }
   ],
   "source": [
    "mat1 = np.matrix(ary1)\n",
    "mat2 = np.matrix(ary2)\n",
    "\n",
    "print (mat1 + mat2)\n",
    "print (mat1 + 5)\n",
    "\n",
    "# 行列の乗算なので mat2 を転置するひつようがある\n",
    "print (mat1 * mat2.T)\n",
    "\n",
    "# これはエラーになる (2行3列の行列同士をかけ合わせたため)\n",
    "print (mat1 * mat2)"
   ]
  },
  {
   "cell_type": "code",
   "execution_count": null,
   "id": "95a0d7c7",
   "metadata": {},
   "outputs": [],
   "source": []
  }
 ],
 "metadata": {
  "kernelspec": {
   "display_name": "Python 3 (ipykernel)",
   "language": "python",
   "name": "python3"
  },
  "language_info": {
   "codemirror_mode": {
    "name": "ipython",
    "version": 3
   },
   "file_extension": ".py",
   "mimetype": "text/x-python",
   "name": "python",
   "nbconvert_exporter": "python",
   "pygments_lexer": "ipython3",
   "version": "3.10.2+"
  }
 },
 "nbformat": 4,
 "nbformat_minor": 5
}
